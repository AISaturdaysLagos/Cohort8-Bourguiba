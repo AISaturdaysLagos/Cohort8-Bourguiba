{
  "cells": [
    {
      "cell_type": "markdown",
      "metadata": {
        "id": "view-in-github",
        "colab_type": "text"
      },
      "source": [
        "<a href=\"https://colab.research.google.com/github/AISaturdaysLagos/Cohort8-Bourguiba/blob/main/GPT_2_Fine_Tuning_Medical_FAQ.ipynb\" target=\"_parent\"><img src=\"https://colab.research.google.com/assets/colab-badge.svg\" alt=\"Open In Colab\"/></a>"
      ]
    },
    {
      "cell_type": "markdown",
      "metadata": {
        "id": "EKOTlwcmxmej"
      },
      "source": [
        "# GPT-2 Fine-Tuning Medical FAQ with PyTorch & Huggingface\n",
        "\n",
        "\n"
      ]
    },
    {
      "cell_type": "markdown",
      "metadata": {
        "id": "NKGBoVwuhM4H"
      },
      "source": [
        "This is a simplified script for fine-tuning GPT2 using Hugging Face's [Transformers library](https://huggingface.co/transformers/) and PyTorch.\n",
        "\n"
      ]
    },
    {
      "cell_type": "markdown",
      "metadata": {
        "id": "Xf3Qw77SZGbS"
      },
      "source": [
        "# Setup"
      ]
    },
    {
      "cell_type": "code",
      "execution_count": null,
      "metadata": {
        "colab": {
          "base_uri": "https://localhost:8080/"
        },
        "id": "0NmMdkZO8R6q",
        "outputId": "f1a244da-b8da-42f5-a4fe-ee6bce837233"
      },
      "outputs": [
        {
          "output_type": "stream",
          "name": "stdout",
          "text": [
            "Requirement already satisfied: transformers in /usr/local/lib/python3.10/dist-packages (4.35.2)\n",
            "Requirement already satisfied: filelock in /usr/local/lib/python3.10/dist-packages (from transformers) (3.13.1)\n",
            "Requirement already satisfied: huggingface-hub<1.0,>=0.16.4 in /usr/local/lib/python3.10/dist-packages (from transformers) (0.19.4)\n",
            "Requirement already satisfied: numpy>=1.17 in /usr/local/lib/python3.10/dist-packages (from transformers) (1.23.5)\n",
            "Requirement already satisfied: packaging>=20.0 in /usr/local/lib/python3.10/dist-packages (from transformers) (23.2)\n",
            "Requirement already satisfied: pyyaml>=5.1 in /usr/local/lib/python3.10/dist-packages (from transformers) (6.0.1)\n",
            "Requirement already satisfied: regex!=2019.12.17 in /usr/local/lib/python3.10/dist-packages (from transformers) (2023.6.3)\n",
            "Requirement already satisfied: requests in /usr/local/lib/python3.10/dist-packages (from transformers) (2.31.0)\n",
            "Requirement already satisfied: tokenizers<0.19,>=0.14 in /usr/local/lib/python3.10/dist-packages (from transformers) (0.15.0)\n",
            "Requirement already satisfied: safetensors>=0.3.1 in /usr/local/lib/python3.10/dist-packages (from transformers) (0.4.1)\n",
            "Requirement already satisfied: tqdm>=4.27 in /usr/local/lib/python3.10/dist-packages (from transformers) (4.66.1)\n",
            "Requirement already satisfied: fsspec>=2023.5.0 in /usr/local/lib/python3.10/dist-packages (from huggingface-hub<1.0,>=0.16.4->transformers) (2023.6.0)\n",
            "Requirement already satisfied: typing-extensions>=3.7.4.3 in /usr/local/lib/python3.10/dist-packages (from huggingface-hub<1.0,>=0.16.4->transformers) (4.5.0)\n",
            "Requirement already satisfied: charset-normalizer<4,>=2 in /usr/local/lib/python3.10/dist-packages (from requests->transformers) (3.3.2)\n",
            "Requirement already satisfied: idna<4,>=2.5 in /usr/local/lib/python3.10/dist-packages (from requests->transformers) (3.6)\n",
            "Requirement already satisfied: urllib3<3,>=1.21.1 in /usr/local/lib/python3.10/dist-packages (from requests->transformers) (2.0.7)\n",
            "Requirement already satisfied: certifi>=2017.4.17 in /usr/local/lib/python3.10/dist-packages (from requests->transformers) (2023.11.17)\n"
          ]
        }
      ],
      "source": [
        "!pip install transformers"
      ]
    },
    {
      "cell_type": "code",
      "execution_count": null,
      "metadata": {
        "colab": {
          "base_uri": "https://localhost:8080/"
        },
        "id": "JCCeyhuDHdOu",
        "outputId": "40d84638-4955-4048-c91e-7600fb7f0615"
      },
      "outputs": [
        {
          "output_type": "stream",
          "name": "stderr",
          "text": [
            "[nltk_data] Downloading package punkt to /root/nltk_data...\n",
            "[nltk_data]   Unzipping tokenizers/punkt.zip.\n"
          ]
        },
        {
          "output_type": "execute_result",
          "data": {
            "text/plain": [
              "True"
            ]
          },
          "metadata": {},
          "execution_count": 2
        }
      ],
      "source": [
        "import os\n",
        "import time\n",
        "import datetime\n",
        "from google.colab import drive\n",
        "\n",
        "import pandas as pd\n",
        "import seaborn as sns\n",
        "import numpy as np\n",
        "import random\n",
        "\n",
        "import matplotlib.pyplot as plt\n",
        "%matplotlib inline\n",
        "\n",
        "import torch\n",
        "from torch.utils.data import Dataset, DataLoader, random_split, RandomSampler, SequentialSampler\n",
        "torch.manual_seed(42)\n",
        "\n",
        "from transformers import GPT2LMHeadModel,  GPT2Tokenizer, GPT2Config, GPT2LMHeadModel\n",
        "from transformers import AdamW, get_linear_schedule_with_warmup\n",
        "\n",
        "import nltk\n",
        "nltk.download('punkt')"
      ]
    },
    {
      "cell_type": "code",
      "execution_count": null,
      "metadata": {
        "colab": {
          "base_uri": "https://localhost:8080/"
        },
        "id": "satxtOn9CzgR",
        "outputId": "9776e757-cf08-48c5-ff0e-0c50fae2ab57"
      },
      "outputs": [
        {
          "output_type": "stream",
          "name": "stdout",
          "text": [
            "Fri Dec 15 15:43:56 2023       \n",
            "+---------------------------------------------------------------------------------------+\n",
            "| NVIDIA-SMI 535.104.05             Driver Version: 535.104.05   CUDA Version: 12.2     |\n",
            "|-----------------------------------------+----------------------+----------------------+\n",
            "| GPU  Name                 Persistence-M | Bus-Id        Disp.A | Volatile Uncorr. ECC |\n",
            "| Fan  Temp   Perf          Pwr:Usage/Cap |         Memory-Usage | GPU-Util  Compute M. |\n",
            "|                                         |                      |               MIG M. |\n",
            "|=========================================+======================+======================|\n",
            "|   0  Tesla T4                       Off | 00000000:00:04.0 Off |                    0 |\n",
            "| N/A   48C    P8              12W /  70W |      0MiB / 15360MiB |      0%      Default |\n",
            "|                                         |                      |                  N/A |\n",
            "+-----------------------------------------+----------------------+----------------------+\n",
            "                                                                                         \n",
            "+---------------------------------------------------------------------------------------+\n",
            "| Processes:                                                                            |\n",
            "|  GPU   GI   CI        PID   Type   Process name                            GPU Memory |\n",
            "|        ID   ID                                                             Usage      |\n",
            "|=======================================================================================|\n",
            "|  No running processes found                                                           |\n",
            "+---------------------------------------------------------------------------------------+\n"
          ]
        }
      ],
      "source": [
        "!nvidia-smi"
      ]
    },
    {
      "cell_type": "markdown",
      "metadata": {
        "id": "ZfdCML6Parvv"
      },
      "source": [
        "# Create Training Set\n",
        "\n",
        "The data used to finetune the language model is a multiple sets of above 17,000  medical questions and their answers, with the aim of generating them in the same general format and style.\n",
        "\n"
      ]
    },
    {
      "cell_type": "code",
      "source": [
        "from google.colab import drive\n",
        "drive.mount('/content/drive')"
      ],
      "metadata": {
        "colab": {
          "base_uri": "https://localhost:8080/"
        },
        "id": "vheaxOwGrBDL",
        "outputId": "91b7eef5-0a51-477a-c5ba-205096baed4e"
      },
      "execution_count": null,
      "outputs": [
        {
          "output_type": "stream",
          "name": "stdout",
          "text": [
            "Mounted at /content/drive\n"
          ]
        }
      ]
    },
    {
      "cell_type": "code",
      "source": [
        "# convert a json file to csv\n",
        "\n",
        "import json\n",
        "\n",
        "# Load the JSON file\n",
        "with open('/content/drive/MyDrive/Team Bourguiba Dataset/health_assistant_115.json') as f:\n",
        "    data = json.load(f)\n",
        "\n",
        "# Convert JSON to DataFrame\n",
        "df1 = pd.json_normalize(data)\n",
        "\n",
        "# Save DataFrame to CSV\n",
        "df1.to_csv('/content/drive/MyDrive/Team Bourguiba Dataset/health_assistant_115.csv', index=False)"
      ],
      "metadata": {
        "id": "bb334ktlw5ZG"
      },
      "execution_count": null,
      "outputs": []
    },
    {
      "cell_type": "code",
      "source": [
        "# load first dataset into a data frame\n",
        "df1 = pd.read_csv ('/content/drive/MyDrive/Team Bourguiba Dataset/health_assistant_115.csv')\n",
        "print(df1)\n",
        "\n",
        "# Combine the question and answer column\n",
        "df1['Ans_Que'] = df1.apply(lambda row:f\"Question: {row['instruction']}\\nAnswer: {row['output']}\", axis=1)\n",
        "\n",
        "# Made a copy of the Ans_Que column. We only need the Ans_Que\n",
        "Ans_Que1 = df1.Ans_Que.copy()\n",
        "Ans_Que1"
      ],
      "metadata": {
        "id": "LAIZ1yiT3qcb",
        "outputId": "f936ce55-159f-45cf-bb3c-a60ce8adcad2",
        "colab": {
          "base_uri": "https://localhost:8080/"
        }
      },
      "execution_count": null,
      "outputs": [
        {
          "output_type": "stream",
          "name": "stdout",
          "text": [
            "                                           instruction  \\\n",
            "0    What are some practical steps I can take to im...   \n",
            "1    What is a balanced diet and how can I ensure I...   \n",
            "2    What are some effective strategies for incorpo...   \n",
            "3    How can I manage stress and maintain a healthy...   \n",
            "4    What are some tips for getting better quality ...   \n",
            "..                                                 ...   \n",
            "225                                        instruction   \n",
            "226                                        instruction   \n",
            "227                                        instruction   \n",
            "228                                        instruction   \n",
            "229                                        instruction   \n",
            "\n",
            "                                                output  \n",
            "0    1. Develop a consistent exercise routine – Exe...  \n",
            "1    A balanced diet is one that includes all the e...  \n",
            "2    1. Set specific times to exercise – Make it a ...  \n",
            "3    1. Manage Your Time Wisely- Prioritize your ta...  \n",
            "4    1. Try to go to bed and wake up around the sam...  \n",
            "..                                                 ...  \n",
            "225                                             output  \n",
            "226                                             output  \n",
            "227                                             output  \n",
            "228                                             output  \n",
            "229                                             output  \n",
            "\n",
            "[230 rows x 2 columns]\n"
          ]
        },
        {
          "output_type": "execute_result",
          "data": {
            "text/plain": [
              "0      Question: What are some practical steps I can ...\n",
              "1      Question: What is a balanced diet and how can ...\n",
              "2      Question: What are some effective strategies f...\n",
              "3      Question: How can I manage stress and maintain...\n",
              "4      Question: What are some tips for getting bette...\n",
              "                             ...                        \n",
              "225                Question: instruction\\nAnswer: output\n",
              "226                Question: instruction\\nAnswer: output\n",
              "227                Question: instruction\\nAnswer: output\n",
              "228                Question: instruction\\nAnswer: output\n",
              "229                Question: instruction\\nAnswer: output\n",
              "Name: Ans_Que, Length: 230, dtype: object"
            ]
          },
          "metadata": {},
          "execution_count": 6
        }
      ]
    },
    {
      "cell_type": "code",
      "source": [
        "# load second dataset into a data frame\n",
        "df2 = pd.read_csv ('/content/drive/MyDrive/Team Bourguiba Dataset/cpgQA-test.csv')\n",
        "print(df2)\n",
        "\n",
        "# Combine the question and answer column\n",
        "df2['Ans_Que'] = df2.apply(lambda row:f\"Question: {row['QUESTION']}\\nAnswer: {row['ANSWER']}\", axis=1)\n",
        "\n",
        "# Made a copy of the Ans_Que column. We only need the Ans_Que\n",
        "Ans_Que2 = df2.Ans_Que.copy()\n",
        "Ans_Que2"
      ],
      "metadata": {
        "id": "xLqctCT4hRxy",
        "outputId": "9f6b3857-3a95-437d-9d15-fcb26df32773",
        "colab": {
          "base_uri": "https://localhost:8080/"
        }
      },
      "execution_count": null,
      "outputs": [
        {
          "output_type": "stream",
          "name": "stdout",
          "text": [
            "                     TITLE                                            CONTEXT  \\\n",
            "0          Recommendations  We recommend against the concurrent use of ben...   \n",
            "1          Recommendations  We recommend against long-term opioid therapy ...   \n",
            "2    Features and overview  Use a shared decision-making approach to discu...   \n",
            "3          Recommendations  If prescribing opioids, we recommend prescribi...   \n",
            "4                Algorithm  When safety allows, a gradual taper rate (5-10...   \n",
            "..                     ...                                                ...   \n",
            "105        Recommendations  Community-based Needle Exchange Programs or Sy...   \n",
            "106  Features and overview  Opioids are not first-line or routine therapy ...   \n",
            "107        Recommendations  Prior to initiating OT, an individualized asse...   \n",
            "108        Recommendations  In patients receiving LOT, moderate quality ev...   \n",
            "109        Recommendations  All patients who take opioids chronically are ...   \n",
            "\n",
            "                                              QUESTION  \\\n",
            "0    What to consider for patients currently on lon...   \n",
            "1    What is recommended for patients currently on ...   \n",
            "2                               Name a sleep disorder.   \n",
            "3             What is the recommended dose of opioids?   \n",
            "4    What to do when there are concerns regarding r...   \n",
            "..                                                 ...   \n",
            "105         What is an example of high-risk behaviors?   \n",
            "106  What should be done before starting opioid the...   \n",
            "107                    What to do after initiating OT?   \n",
            "108  In patients receiving LOT, who are 50% more li...   \n",
            "109              Who are at risk for OUD and overdose?   \n",
            "\n",
            "                                                ANSWER  \n",
            "0    tapering one or both when risks exceed benefit...  \n",
            "1    close monitoring, including engagement in subs...  \n",
            "2                                          Sleep apnea  \n",
            "3    the lowest dose of opioids as indicated by pat...  \n",
            "4    consider interdisciplinary services that may i...  \n",
            "..                                                 ...  \n",
            "105                                    sharing needles  \n",
            "106                          Establish treatment goals  \n",
            "107  frequent visits contribute to the appropriate ...  \n",
            "108                                                men  \n",
            "109          All patients who take opioids chronically  \n",
            "\n",
            "[110 rows x 4 columns]\n"
          ]
        },
        {
          "output_type": "execute_result",
          "data": {
            "text/plain": [
              "0      Question: What to consider for patients curren...\n",
              "1      Question: What is recommended for patients cur...\n",
              "2      Question: Name a sleep disorder.\\nAnswer: Slee...\n",
              "3      Question: What is the recommended dose of opio...\n",
              "4      Question: What to do when there are concerns r...\n",
              "                             ...                        \n",
              "105    Question: What is an example of high-risk beha...\n",
              "106    Question: What should be done before starting ...\n",
              "107    Question: What to do after initiating OT?\\nAns...\n",
              "108    Question: In patients receiving LOT, who are 5...\n",
              "109    Question: Who are at risk for OUD and overdose...\n",
              "Name: Ans_Que, Length: 110, dtype: object"
            ]
          },
          "metadata": {},
          "execution_count": 7
        }
      ]
    },
    {
      "cell_type": "code",
      "source": [
        "# load third dataset into a data frame\n",
        "df3 = pd.read_csv ('/content/drive/MyDrive/Team Bourguiba Dataset/cpgQA-train.csv')\n",
        "print(df3)\n",
        "\n",
        "# Combine the question and answer column\n",
        "df3['Ans_Que'] = df3.apply(lambda row:f\"Question: {row['QUESTION']}\\nAnswer: {row['ANSWER']}\", axis=1)\n",
        "\n",
        "Ans_Que3 = df3.Ans_Que.copy() #just use the Ans_Que text in this example\n",
        "Ans_Que3"
      ],
      "metadata": {
        "id": "8HPyjrwphS6p",
        "outputId": "3012270d-8cf0-4594-c820-d4946587ff91",
        "colab": {
          "base_uri": "https://localhost:8080/"
        }
      },
      "execution_count": null,
      "outputs": [
        {
          "output_type": "stream",
          "name": "stdout",
          "text": [
            "                      TITLE  \\\n",
            "0     Features and overview   \n",
            "1           Recommendations   \n",
            "2                 Algorithm   \n",
            "3    Background information   \n",
            "4     Features and overview   \n",
            "..                      ...   \n",
            "872  Background information   \n",
            "873         Recommendations   \n",
            "874  Background information   \n",
            "875         Recommendations   \n",
            "876         Recommendations   \n",
            "\n",
            "                                               CONTEXT  \\\n",
            "0    Here is an example of an opioid taper plan for...   \n",
            "1    Opioid medications are potentially lethal and ...   \n",
            "2    Module D is for patients currently on opioid t...   \n",
            "3    Headache not responsive to other pain treatmen...   \n",
            "4    Use a shared decision-making approach to discu...   \n",
            "..                                                 ...   \n",
            "872  Chronic pain is a national public health probl...   \n",
            "873  A number of studies suggest certain chronic pa...   \n",
            "874  Chronic pain is a national public health probl...   \n",
            "875  The added risk that younger patients using opi...   \n",
            "876  We recommend tapering to reduced dose or to di...   \n",
            "\n",
            "                                              QUESTION  \\\n",
            "0    How much to take from days 11 to 20, when usin...   \n",
            "1    For which patients the VA/DoD Suicide CPG reco...   \n",
            "2    What to do if there are factors that would req...   \n",
            "3    What is an ineffective treatment modality for ...   \n",
            "4    Name the treatment settings in which MAT can b...   \n",
            "..                                                 ...   \n",
            "872  What was accompanying the increase in prescrip...   \n",
            "873  Is there any evidence that certain chronic pai...   \n",
            "874  What was increasing at an alarming rate until ...   \n",
            "875  What was the amount of risk of developing OUD ...   \n",
            "876  What is recommended when risks of long-term op...   \n",
            "\n",
            "                                                ANSWER  \n",
            "0    3 tablets = 45 mg in the morning, 3 tablets = ...  \n",
            "1    patients considered to be at intermediate or h...  \n",
            "2    admit/provide treatment to stabilize, includin...  \n",
            "3                                                  LOT  \n",
            "4    residential SUD treatment, intensive outpatien...  \n",
            "..                                                 ...  \n",
            "872       an epidemic of opioid-related adverse events  \n",
            "873                        A number of studies suggest  \n",
            "874         the treatment of chronic pain with opioids  \n",
            "875                        far less risk (nearly 1/17)  \n",
            "876  tapering to reduced dose or to discontinuation...  \n",
            "\n",
            "[877 rows x 4 columns]\n"
          ]
        },
        {
          "output_type": "execute_result",
          "data": {
            "text/plain": [
              "0      Question: How much to take from days 11 to 20,...\n",
              "1      Question: For which patients the VA/DoD Suicid...\n",
              "2      Question: What to do if there are factors that...\n",
              "3      Question: What is an ineffective treatment mod...\n",
              "4      Question: Name the treatment settings in which...\n",
              "                             ...                        \n",
              "872    Question: What was accompanying the increase i...\n",
              "873    Question: Is there any evidence that certain c...\n",
              "874    Question: What was increasing at an alarming r...\n",
              "875    Question: What was the amount of risk of devel...\n",
              "876    Question: What is recommended when risks of lo...\n",
              "Name: Ans_Que, Length: 877, dtype: object"
            ]
          },
          "metadata": {},
          "execution_count": 8
        }
      ]
    },
    {
      "cell_type": "code",
      "source": [
        "# load fourth into a data frame\n",
        "df4 = pd.read_csv ('/content/drive/MyDrive/Team Bourguiba Dataset/health_conv.csv')\n",
        "print(df4)\n",
        "\n",
        "# Combine the question and answer column\n",
        "df4['Ans_Que'] = df4.apply(lambda row:f\"Question: {row['Questions']}\\nAnswer: {row['Answers']}\", axis=1)\n",
        "\n",
        "# Made a copy of the Ans_Que column. We only need the Ans_Que\n",
        "Ans_Que4 = df4.Ans_Que.copy()\n",
        "Ans_Que4"
      ],
      "metadata": {
        "id": "NDuONUpihVJK",
        "outputId": "996eda3d-5c85-4a0d-b59b-73f3b5477fc0",
        "colab": {
          "base_uri": "https://localhost:8080/"
        }
      },
      "execution_count": null,
      "outputs": [
        {
          "output_type": "stream",
          "name": "stdout",
          "text": [
            "                                             Questions  \\\n",
            "0                              What is a panic attack?   \n",
            "1    What are symptoms of panic attack vs. anxiety ...   \n",
            "2                What are the types of Mental Illness?   \n",
            "3                       What does mental-illness mean?   \n",
            "4                    How can you treat mental illness?   \n",
            "..                                                 ...   \n",
            "149  How does smoking, drinking alcohol, or misusin...   \n",
            "150            How does aging affect my mental health?   \n",
            "151  How does physical activity affect my mental he...   \n",
            "152  How do traumatic or negative childhood events ...   \n",
            "153            Why is women’s mental health important?   \n",
            "\n",
            "                                               Answers  \n",
            "0    Panic attacks come on suddenly and involve int...  \n",
            "1    Panic and anxiety attacks may feel similar, an...  \n",
            "2    There are many different conditions that are r...  \n",
            "3    Mental illness is a group of biological brain ...  \n",
            "4    As these illnesses are biologically based brai...  \n",
            "..                                                 ...  \n",
            "149  The chemicals in tobacco and alcohol can chang...  \n",
            "150  As you age, your body and brain change. These ...  \n",
            "151  Physical activity can help your mental health ...  \n",
            "152  Two out of every 3 women have experienced at l...  \n",
            "153  Mental disorders can affect women and men diff...  \n",
            "\n",
            "[154 rows x 2 columns]\n"
          ]
        },
        {
          "output_type": "execute_result",
          "data": {
            "text/plain": [
              "0      Question: What is a panic attack?\\nAnswer: Pan...\n",
              "1      Question: What are symptoms of panic attack vs...\n",
              "2      Question: What are the types of Mental Illness...\n",
              "3      Question: What does mental-illness mean?\\nAnsw...\n",
              "4      Question: How can you treat mental illness?\\nA...\n",
              "                             ...                        \n",
              "149    Question: How does smoking, drinking alcohol, ...\n",
              "150    Question: How does aging affect my mental heal...\n",
              "151    Question: How does physical activity affect my...\n",
              "152    Question: How do traumatic or negative childho...\n",
              "153    Question: Why is women’s mental health importa...\n",
              "Name: Ans_Que, Length: 154, dtype: object"
            ]
          },
          "metadata": {},
          "execution_count": 9
        }
      ]
    },
    {
      "cell_type": "code",
      "source": [
        "# load fifth dataset into a data frame\n",
        "df5 = pd.read_csv ('/content/drive/MyDrive/Team Bourguiba Dataset/medquad.csv')\n",
        "print(df5)\n",
        "\n",
        "# Combine the question and answer column\n",
        "df5['Ans_Que'] = df5.apply(lambda row:f\"Question: {row['question']}\\nAnswer: {row['answer']}\", axis=1)\n",
        "\n",
        "# Made a copy of the Ans_Que column. We only need the Ans_Que\n",
        "Ans_Que5 = df5.Ans_Que.copy()\n",
        "Ans_Que5"
      ],
      "metadata": {
        "id": "yy5sJcYSvMH9",
        "outputId": "f7c5929d-0d0a-4c04-9ad8-dac42e9531bc",
        "colab": {
          "base_uri": "https://localhost:8080/"
        }
      },
      "execution_count": null,
      "outputs": [
        {
          "output_type": "stream",
          "name": "stdout",
          "text": [
            "                                                question  \\\n",
            "0                               What is (are) Glaucoma ?   \n",
            "1                                 What causes Glaucoma ?   \n",
            "2                    What are the symptoms of Glaucoma ?   \n",
            "3                 What are the treatments for Glaucoma ?   \n",
            "4                               What is (are) Glaucoma ?   \n",
            "...                                                  ...   \n",
            "16407  What is (are) Diabetic Neuropathies: The Nerve...   \n",
            "16408  How to prevent Diabetic Neuropathies: The Nerv...   \n",
            "16409  How to diagnose Diabetic Neuropathies: The Ner...   \n",
            "16410  What are the treatments for Diabetic Neuropath...   \n",
            "16411  What to do for Diabetic Neuropathies: The Nerv...   \n",
            "\n",
            "                                                  answer           source  \\\n",
            "0      Glaucoma is a group of diseases that can damag...  NIHSeniorHealth   \n",
            "1      Nearly 2.7 million people have glaucoma, a lea...  NIHSeniorHealth   \n",
            "2      Symptoms of Glaucoma  Glaucoma can develop in ...  NIHSeniorHealth   \n",
            "3      Although open-angle glaucoma cannot be cured, ...  NIHSeniorHealth   \n",
            "4      Glaucoma is a group of diseases that can damag...  NIHSeniorHealth   \n",
            "...                                                  ...              ...   \n",
            "16407  Focal neuropathy appears suddenly and affects ...            NIDDK   \n",
            "16408  The best way to prevent neuropathy is to keep ...            NIDDK   \n",
            "16409  Doctors diagnose neuropathy on the basis of sy...            NIDDK   \n",
            "16410  The first treatment step is to bring blood glu...            NIDDK   \n",
            "16411  - Diabetic neuropathies are nerve disorders ca...            NIDDK   \n",
            "\n",
            "                                              focus_area  \n",
            "0                                               Glaucoma  \n",
            "1                                               Glaucoma  \n",
            "2                                               Glaucoma  \n",
            "3                                               Glaucoma  \n",
            "4                                               Glaucoma  \n",
            "...                                                  ...  \n",
            "16407  Diabetic Neuropathies: The Nerve Damage of Dia...  \n",
            "16408  Diabetic Neuropathies: The Nerve Damage of Dia...  \n",
            "16409  Diabetic Neuropathies: The Nerve Damage of Dia...  \n",
            "16410  Diabetic Neuropathies: The Nerve Damage of Dia...  \n",
            "16411  Diabetic Neuropathies: The Nerve Damage of Dia...  \n",
            "\n",
            "[16412 rows x 4 columns]\n"
          ]
        },
        {
          "output_type": "execute_result",
          "data": {
            "text/plain": [
              "0        Question: What is (are) Glaucoma ?\\nAnswer: Gl...\n",
              "1        Question: What causes Glaucoma ?\\nAnswer: Near...\n",
              "2        Question: What are the symptoms of Glaucoma ?\\...\n",
              "3        Question: What are the treatments for Glaucoma...\n",
              "4        Question: What is (are) Glaucoma ?\\nAnswer: Gl...\n",
              "                               ...                        \n",
              "16407    Question: What is (are) Diabetic Neuropathies:...\n",
              "16408    Question: How to prevent Diabetic Neuropathies...\n",
              "16409    Question: How to diagnose Diabetic Neuropathie...\n",
              "16410    Question: What are the treatments for Diabetic...\n",
              "16411    Question: What to do for Diabetic Neuropathies...\n",
              "Name: Ans_Que, Length: 16412, dtype: object"
            ]
          },
          "metadata": {},
          "execution_count": 10
        }
      ]
    },
    {
      "cell_type": "code",
      "source": [
        "\n",
        "# Combine the dataframes\n",
        "combined_df = pd.concat([Ans_Que1, Ans_Que2, Ans_Que3, Ans_Que4, Ans_Que5], ignore_index=True)\n",
        "\n",
        "# Save the combined dataframe to a new CSV file\n",
        "combined_df.to_csv('/content/drive/MyDrive/Team Bourguiba Dataset/combined_df.csv', index=False)"
      ],
      "metadata": {
        "id": "53VKW1dqim-f"
      },
      "execution_count": null,
      "outputs": []
    },
    {
      "cell_type": "code",
      "source": [
        "# load combined dataset into a data frame\n",
        "combined_df = pd.read_csv ('/content/drive/MyDrive/Team Bourguiba Dataset/combined_df.csv')\n",
        "print(combined_df)"
      ],
      "metadata": {
        "id": "BO4Ol5l0o-HX",
        "outputId": "634aa652-b39e-4908-8b7d-eb62b9ce976a",
        "colab": {
          "base_uri": "https://localhost:8080/"
        }
      },
      "execution_count": null,
      "outputs": [
        {
          "output_type": "stream",
          "name": "stdout",
          "text": [
            "                                                 Ans_Que\n",
            "0      Question: What are some practical steps I can ...\n",
            "1      Question: What is a balanced diet and how can ...\n",
            "2      Question: What are some effective strategies f...\n",
            "3      Question: How can I manage stress and maintain...\n",
            "4      Question: What are some tips for getting bette...\n",
            "...                                                  ...\n",
            "17778  Question: What is (are) Diabetic Neuropathies:...\n",
            "17779  Question: How to prevent Diabetic Neuropathies...\n",
            "17780  Question: How to diagnose Diabetic Neuropathie...\n",
            "17781  Question: What are the treatments for Diabetic...\n",
            "17782  Question: What to do for Diabetic Neuropathies...\n",
            "\n",
            "[17783 rows x 1 columns]\n"
          ]
        }
      ]
    },
    {
      "cell_type": "code",
      "execution_count": null,
      "metadata": {
        "id": "_U3m6wr3Ahzt"
      },
      "outputs": [],
      "source": [
        "combined_df.dropna(inplace=True) #remove NA values"
      ]
    },
    {
      "cell_type": "code",
      "source": [
        "# Made a copy of combined datasets. Which contains only the Ans_Que column that we need\n",
        "combined_df2 = combined_df.copy()\n",
        "combined_df2"
      ],
      "metadata": {
        "id": "TyHhjOBky2u7",
        "outputId": "bac256b0-d08f-48ef-cb95-01d1ac74090b",
        "colab": {
          "base_uri": "https://localhost:8080/",
          "height": 597
        }
      },
      "execution_count": null,
      "outputs": [
        {
          "output_type": "execute_result",
          "data": {
            "text/plain": [
              "                                                 Ans_Que\n",
              "0      Question: What are some practical steps I can ...\n",
              "1      Question: What is a balanced diet and how can ...\n",
              "2      Question: What are some effective strategies f...\n",
              "3      Question: How can I manage stress and maintain...\n",
              "4      Question: What are some tips for getting bette...\n",
              "...                                                  ...\n",
              "17778  Question: What is (are) Diabetic Neuropathies:...\n",
              "17779  Question: How to prevent Diabetic Neuropathies...\n",
              "17780  Question: How to diagnose Diabetic Neuropathie...\n",
              "17781  Question: What are the treatments for Diabetic...\n",
              "17782  Question: What to do for Diabetic Neuropathies...\n",
              "\n",
              "[17783 rows x 1 columns]"
            ],
            "text/html": [
              "\n",
              "  <div id=\"df-b7936e90-bb9e-4bd2-9d03-204f30c057fc\" class=\"colab-df-container\">\n",
              "    <div>\n",
              "<style scoped>\n",
              "    .dataframe tbody tr th:only-of-type {\n",
              "        vertical-align: middle;\n",
              "    }\n",
              "\n",
              "    .dataframe tbody tr th {\n",
              "        vertical-align: top;\n",
              "    }\n",
              "\n",
              "    .dataframe thead th {\n",
              "        text-align: right;\n",
              "    }\n",
              "</style>\n",
              "<table border=\"1\" class=\"dataframe\">\n",
              "  <thead>\n",
              "    <tr style=\"text-align: right;\">\n",
              "      <th></th>\n",
              "      <th>Ans_Que</th>\n",
              "    </tr>\n",
              "  </thead>\n",
              "  <tbody>\n",
              "    <tr>\n",
              "      <th>0</th>\n",
              "      <td>Question: What are some practical steps I can ...</td>\n",
              "    </tr>\n",
              "    <tr>\n",
              "      <th>1</th>\n",
              "      <td>Question: What is a balanced diet and how can ...</td>\n",
              "    </tr>\n",
              "    <tr>\n",
              "      <th>2</th>\n",
              "      <td>Question: What are some effective strategies f...</td>\n",
              "    </tr>\n",
              "    <tr>\n",
              "      <th>3</th>\n",
              "      <td>Question: How can I manage stress and maintain...</td>\n",
              "    </tr>\n",
              "    <tr>\n",
              "      <th>4</th>\n",
              "      <td>Question: What are some tips for getting bette...</td>\n",
              "    </tr>\n",
              "    <tr>\n",
              "      <th>...</th>\n",
              "      <td>...</td>\n",
              "    </tr>\n",
              "    <tr>\n",
              "      <th>17778</th>\n",
              "      <td>Question: What is (are) Diabetic Neuropathies:...</td>\n",
              "    </tr>\n",
              "    <tr>\n",
              "      <th>17779</th>\n",
              "      <td>Question: How to prevent Diabetic Neuropathies...</td>\n",
              "    </tr>\n",
              "    <tr>\n",
              "      <th>17780</th>\n",
              "      <td>Question: How to diagnose Diabetic Neuropathie...</td>\n",
              "    </tr>\n",
              "    <tr>\n",
              "      <th>17781</th>\n",
              "      <td>Question: What are the treatments for Diabetic...</td>\n",
              "    </tr>\n",
              "    <tr>\n",
              "      <th>17782</th>\n",
              "      <td>Question: What to do for Diabetic Neuropathies...</td>\n",
              "    </tr>\n",
              "  </tbody>\n",
              "</table>\n",
              "<p>17783 rows × 1 columns</p>\n",
              "</div>\n",
              "    <div class=\"colab-df-buttons\">\n",
              "\n",
              "  <div class=\"colab-df-container\">\n",
              "    <button class=\"colab-df-convert\" onclick=\"convertToInteractive('df-b7936e90-bb9e-4bd2-9d03-204f30c057fc')\"\n",
              "            title=\"Convert this dataframe to an interactive table.\"\n",
              "            style=\"display:none;\">\n",
              "\n",
              "  <svg xmlns=\"http://www.w3.org/2000/svg\" height=\"24px\" viewBox=\"0 -960 960 960\">\n",
              "    <path d=\"M120-120v-720h720v720H120Zm60-500h600v-160H180v160Zm220 220h160v-160H400v160Zm0 220h160v-160H400v160ZM180-400h160v-160H180v160Zm440 0h160v-160H620v160ZM180-180h160v-160H180v160Zm440 0h160v-160H620v160Z\"/>\n",
              "  </svg>\n",
              "    </button>\n",
              "\n",
              "  <style>\n",
              "    .colab-df-container {\n",
              "      display:flex;\n",
              "      gap: 12px;\n",
              "    }\n",
              "\n",
              "    .colab-df-convert {\n",
              "      background-color: #E8F0FE;\n",
              "      border: none;\n",
              "      border-radius: 50%;\n",
              "      cursor: pointer;\n",
              "      display: none;\n",
              "      fill: #1967D2;\n",
              "      height: 32px;\n",
              "      padding: 0 0 0 0;\n",
              "      width: 32px;\n",
              "    }\n",
              "\n",
              "    .colab-df-convert:hover {\n",
              "      background-color: #E2EBFA;\n",
              "      box-shadow: 0px 1px 2px rgba(60, 64, 67, 0.3), 0px 1px 3px 1px rgba(60, 64, 67, 0.15);\n",
              "      fill: #174EA6;\n",
              "    }\n",
              "\n",
              "    .colab-df-buttons div {\n",
              "      margin-bottom: 4px;\n",
              "    }\n",
              "\n",
              "    [theme=dark] .colab-df-convert {\n",
              "      background-color: #3B4455;\n",
              "      fill: #D2E3FC;\n",
              "    }\n",
              "\n",
              "    [theme=dark] .colab-df-convert:hover {\n",
              "      background-color: #434B5C;\n",
              "      box-shadow: 0px 1px 3px 1px rgba(0, 0, 0, 0.15);\n",
              "      filter: drop-shadow(0px 1px 2px rgba(0, 0, 0, 0.3));\n",
              "      fill: #FFFFFF;\n",
              "    }\n",
              "  </style>\n",
              "\n",
              "    <script>\n",
              "      const buttonEl =\n",
              "        document.querySelector('#df-b7936e90-bb9e-4bd2-9d03-204f30c057fc button.colab-df-convert');\n",
              "      buttonEl.style.display =\n",
              "        google.colab.kernel.accessAllowed ? 'block' : 'none';\n",
              "\n",
              "      async function convertToInteractive(key) {\n",
              "        const element = document.querySelector('#df-b7936e90-bb9e-4bd2-9d03-204f30c057fc');\n",
              "        const dataTable =\n",
              "          await google.colab.kernel.invokeFunction('convertToInteractive',\n",
              "                                                    [key], {});\n",
              "        if (!dataTable) return;\n",
              "\n",
              "        const docLinkHtml = 'Like what you see? Visit the ' +\n",
              "          '<a target=\"_blank\" href=https://colab.research.google.com/notebooks/data_table.ipynb>data table notebook</a>'\n",
              "          + ' to learn more about interactive tables.';\n",
              "        element.innerHTML = '';\n",
              "        dataTable['output_type'] = 'display_data';\n",
              "        await google.colab.output.renderOutput(dataTable, element);\n",
              "        const docLink = document.createElement('div');\n",
              "        docLink.innerHTML = docLinkHtml;\n",
              "        element.appendChild(docLink);\n",
              "      }\n",
              "    </script>\n",
              "  </div>\n",
              "\n",
              "\n",
              "<div id=\"df-f30bc891-f77f-4746-b371-cb3123fe08de\">\n",
              "  <button class=\"colab-df-quickchart\" onclick=\"quickchart('df-f30bc891-f77f-4746-b371-cb3123fe08de')\"\n",
              "            title=\"Suggest charts\"\n",
              "            style=\"display:none;\">\n",
              "\n",
              "<svg xmlns=\"http://www.w3.org/2000/svg\" height=\"24px\"viewBox=\"0 0 24 24\"\n",
              "     width=\"24px\">\n",
              "    <g>\n",
              "        <path d=\"M19 3H5c-1.1 0-2 .9-2 2v14c0 1.1.9 2 2 2h14c1.1 0 2-.9 2-2V5c0-1.1-.9-2-2-2zM9 17H7v-7h2v7zm4 0h-2V7h2v10zm4 0h-2v-4h2v4z\"/>\n",
              "    </g>\n",
              "</svg>\n",
              "  </button>\n",
              "\n",
              "<style>\n",
              "  .colab-df-quickchart {\n",
              "      --bg-color: #E8F0FE;\n",
              "      --fill-color: #1967D2;\n",
              "      --hover-bg-color: #E2EBFA;\n",
              "      --hover-fill-color: #174EA6;\n",
              "      --disabled-fill-color: #AAA;\n",
              "      --disabled-bg-color: #DDD;\n",
              "  }\n",
              "\n",
              "  [theme=dark] .colab-df-quickchart {\n",
              "      --bg-color: #3B4455;\n",
              "      --fill-color: #D2E3FC;\n",
              "      --hover-bg-color: #434B5C;\n",
              "      --hover-fill-color: #FFFFFF;\n",
              "      --disabled-bg-color: #3B4455;\n",
              "      --disabled-fill-color: #666;\n",
              "  }\n",
              "\n",
              "  .colab-df-quickchart {\n",
              "    background-color: var(--bg-color);\n",
              "    border: none;\n",
              "    border-radius: 50%;\n",
              "    cursor: pointer;\n",
              "    display: none;\n",
              "    fill: var(--fill-color);\n",
              "    height: 32px;\n",
              "    padding: 0;\n",
              "    width: 32px;\n",
              "  }\n",
              "\n",
              "  .colab-df-quickchart:hover {\n",
              "    background-color: var(--hover-bg-color);\n",
              "    box-shadow: 0 1px 2px rgba(60, 64, 67, 0.3), 0 1px 3px 1px rgba(60, 64, 67, 0.15);\n",
              "    fill: var(--button-hover-fill-color);\n",
              "  }\n",
              "\n",
              "  .colab-df-quickchart-complete:disabled,\n",
              "  .colab-df-quickchart-complete:disabled:hover {\n",
              "    background-color: var(--disabled-bg-color);\n",
              "    fill: var(--disabled-fill-color);\n",
              "    box-shadow: none;\n",
              "  }\n",
              "\n",
              "  .colab-df-spinner {\n",
              "    border: 2px solid var(--fill-color);\n",
              "    border-color: transparent;\n",
              "    border-bottom-color: var(--fill-color);\n",
              "    animation:\n",
              "      spin 1s steps(1) infinite;\n",
              "  }\n",
              "\n",
              "  @keyframes spin {\n",
              "    0% {\n",
              "      border-color: transparent;\n",
              "      border-bottom-color: var(--fill-color);\n",
              "      border-left-color: var(--fill-color);\n",
              "    }\n",
              "    20% {\n",
              "      border-color: transparent;\n",
              "      border-left-color: var(--fill-color);\n",
              "      border-top-color: var(--fill-color);\n",
              "    }\n",
              "    30% {\n",
              "      border-color: transparent;\n",
              "      border-left-color: var(--fill-color);\n",
              "      border-top-color: var(--fill-color);\n",
              "      border-right-color: var(--fill-color);\n",
              "    }\n",
              "    40% {\n",
              "      border-color: transparent;\n",
              "      border-right-color: var(--fill-color);\n",
              "      border-top-color: var(--fill-color);\n",
              "    }\n",
              "    60% {\n",
              "      border-color: transparent;\n",
              "      border-right-color: var(--fill-color);\n",
              "    }\n",
              "    80% {\n",
              "      border-color: transparent;\n",
              "      border-right-color: var(--fill-color);\n",
              "      border-bottom-color: var(--fill-color);\n",
              "    }\n",
              "    90% {\n",
              "      border-color: transparent;\n",
              "      border-bottom-color: var(--fill-color);\n",
              "    }\n",
              "  }\n",
              "</style>\n",
              "\n",
              "  <script>\n",
              "    async function quickchart(key) {\n",
              "      const quickchartButtonEl =\n",
              "        document.querySelector('#' + key + ' button');\n",
              "      quickchartButtonEl.disabled = true;  // To prevent multiple clicks.\n",
              "      quickchartButtonEl.classList.add('colab-df-spinner');\n",
              "      try {\n",
              "        const charts = await google.colab.kernel.invokeFunction(\n",
              "            'suggestCharts', [key], {});\n",
              "      } catch (error) {\n",
              "        console.error('Error during call to suggestCharts:', error);\n",
              "      }\n",
              "      quickchartButtonEl.classList.remove('colab-df-spinner');\n",
              "      quickchartButtonEl.classList.add('colab-df-quickchart-complete');\n",
              "    }\n",
              "    (() => {\n",
              "      let quickchartButtonEl =\n",
              "        document.querySelector('#df-f30bc891-f77f-4746-b371-cb3123fe08de button');\n",
              "      quickchartButtonEl.style.display =\n",
              "        google.colab.kernel.accessAllowed ? 'block' : 'none';\n",
              "    })();\n",
              "  </script>\n",
              "</div>\n",
              "\n",
              "  <div id=\"id_49fc63d1-4d33-4fad-a343-2d70c045c3fc\">\n",
              "    <style>\n",
              "      .colab-df-generate {\n",
              "        background-color: #E8F0FE;\n",
              "        border: none;\n",
              "        border-radius: 50%;\n",
              "        cursor: pointer;\n",
              "        display: none;\n",
              "        fill: #1967D2;\n",
              "        height: 32px;\n",
              "        padding: 0 0 0 0;\n",
              "        width: 32px;\n",
              "      }\n",
              "\n",
              "      .colab-df-generate:hover {\n",
              "        background-color: #E2EBFA;\n",
              "        box-shadow: 0px 1px 2px rgba(60, 64, 67, 0.3), 0px 1px 3px 1px rgba(60, 64, 67, 0.15);\n",
              "        fill: #174EA6;\n",
              "      }\n",
              "\n",
              "      [theme=dark] .colab-df-generate {\n",
              "        background-color: #3B4455;\n",
              "        fill: #D2E3FC;\n",
              "      }\n",
              "\n",
              "      [theme=dark] .colab-df-generate:hover {\n",
              "        background-color: #434B5C;\n",
              "        box-shadow: 0px 1px 3px 1px rgba(0, 0, 0, 0.15);\n",
              "        filter: drop-shadow(0px 1px 2px rgba(0, 0, 0, 0.3));\n",
              "        fill: #FFFFFF;\n",
              "      }\n",
              "    </style>\n",
              "    <button class=\"colab-df-generate\" onclick=\"generateWithVariable('combined_df2')\"\n",
              "            title=\"Generate code using this dataframe.\"\n",
              "            style=\"display:none;\">\n",
              "\n",
              "  <svg xmlns=\"http://www.w3.org/2000/svg\" height=\"24px\"viewBox=\"0 0 24 24\"\n",
              "       width=\"24px\">\n",
              "    <path d=\"M7,19H8.4L18.45,9,17,7.55,7,17.6ZM5,21V16.75L18.45,3.32a2,2,0,0,1,2.83,0l1.4,1.43a1.91,1.91,0,0,1,.58,1.4,1.91,1.91,0,0,1-.58,1.4L9.25,21ZM18.45,9,17,7.55Zm-12,3A5.31,5.31,0,0,0,4.9,8.1,5.31,5.31,0,0,0,1,6.5,5.31,5.31,0,0,0,4.9,4.9,5.31,5.31,0,0,0,6.5,1,5.31,5.31,0,0,0,8.1,4.9,5.31,5.31,0,0,0,12,6.5,5.46,5.46,0,0,0,6.5,12Z\"/>\n",
              "  </svg>\n",
              "    </button>\n",
              "    <script>\n",
              "      (() => {\n",
              "      const buttonEl =\n",
              "        document.querySelector('#id_49fc63d1-4d33-4fad-a343-2d70c045c3fc button.colab-df-generate');\n",
              "      buttonEl.style.display =\n",
              "        google.colab.kernel.accessAllowed ? 'block' : 'none';\n",
              "\n",
              "      buttonEl.onclick = () => {\n",
              "        google.colab.notebook.generateWithVariable('combined_df2');\n",
              "      }\n",
              "      })();\n",
              "    </script>\n",
              "  </div>\n",
              "\n",
              "    </div>\n",
              "  </div>\n"
            ]
          },
          "metadata": {},
          "execution_count": 14
        }
      ]
    },
    {
      "cell_type": "code",
      "source": [
        "#Use the column name here\n",
        "Ans_Que = combined_df2.Ans_Que.copy()\n",
        "Ans_Que\n",
        "#print(Ans_Que.loc[0])"
      ],
      "metadata": {
        "id": "Oi3kKelA0WJg",
        "outputId": "d49df83d-d098-4150-ae64-45af5822eefd",
        "colab": {
          "base_uri": "https://localhost:8080/"
        }
      },
      "execution_count": null,
      "outputs": [
        {
          "output_type": "execute_result",
          "data": {
            "text/plain": [
              "0        Question: What are some practical steps I can ...\n",
              "1        Question: What is a balanced diet and how can ...\n",
              "2        Question: What are some effective strategies f...\n",
              "3        Question: How can I manage stress and maintain...\n",
              "4        Question: What are some tips for getting bette...\n",
              "                               ...                        \n",
              "17778    Question: What is (are) Diabetic Neuropathies:...\n",
              "17779    Question: How to prevent Diabetic Neuropathies...\n",
              "17780    Question: How to diagnose Diabetic Neuropathie...\n",
              "17781    Question: What are the treatments for Diabetic...\n",
              "17782    Question: What to do for Diabetic Neuropathies...\n",
              "Name: Ans_Que, Length: 17783, dtype: object"
            ]
          },
          "metadata": {},
          "execution_count": 15
        }
      ]
    },
    {
      "cell_type": "markdown",
      "metadata": {
        "id": "hQ1oK0kXaV5p"
      },
      "source": [
        "We need to get an idea of how long our training documents are.\n",
        "\n",
        "Using a simple one just to get a rough understanding."
      ]
    },
    {
      "cell_type": "code",
      "execution_count": null,
      "metadata": {
        "colab": {
          "base_uri": "https://localhost:8080/",
          "height": 471
        },
        "id": "cKsH2sU0OCQA",
        "outputId": "4d6cdd12-ab69-4f7c-cdaa-2612db5ff4e5"
      },
      "outputs": [
        {
          "output_type": "stream",
          "name": "stderr",
          "text": [
            "<ipython-input-16-d832bee94024>:12: UserWarning: \n",
            "\n",
            "`distplot` is a deprecated function and will be removed in seaborn v0.14.0.\n",
            "\n",
            "Please adapt your code to use either `displot` (a figure-level function with\n",
            "similar flexibility) or `histplot` (an axes-level function for histograms).\n",
            "\n",
            "For a guide to updating your code to use the new functions, please see\n",
            "https://gist.github.com/mwaskom/de44147ed2974457ad6372750bbe5751\n",
            "\n",
            "  sns.distplot(doc_lengths)\n"
          ]
        },
        {
          "output_type": "execute_result",
          "data": {
            "text/plain": [
              "<Axes: ylabel='Density'>"
            ]
          },
          "metadata": {},
          "execution_count": 16
        },
        {
          "output_type": "display_data",
          "data": {
            "text/plain": [
              "<Figure size 640x480 with 1 Axes>"
            ],
            "image/png": "[encoded data removed]"
          },
          "metadata": {}
        }
      ],
      "source": [
        "doc_lengths = []\n",
        "\n",
        "for Question in Ans_Que:\n",
        "\n",
        "    # get rough token count distribution\n",
        "    tokens = nltk.word_tokenize(Question)\n",
        "\n",
        "    doc_lengths.append(len(tokens))\n",
        "\n",
        "doc_lengths = np.array(doc_lengths)\n",
        "\n",
        "sns.distplot(doc_lengths)"
      ]
    },
    {
      "cell_type": "code",
      "execution_count": null,
      "metadata": {
        "colab": {
          "base_uri": "https://localhost:8080/"
        },
        "id": "u6P6bTItJEIj",
        "outputId": "26184c96-db35-4e32-900f-6cd5d3baca18"
      },
      "outputs": [
        {
          "output_type": "execute_result",
          "data": {
            "text/plain": [
              "0.030253613001180905"
            ]
          },
          "metadata": {},
          "execution_count": 22
        }
      ],
      "source": [
        "# the max token length\n",
        "len(doc_lengths[doc_lengths > 768])/len(doc_lengths)"
      ]
    },
    {
      "cell_type": "code",
      "execution_count": null,
      "metadata": {
        "colab": {
          "base_uri": "https://localhost:8080/"
        },
        "id": "63t_69HjlwAj",
        "outputId": "d4a5e2c3-5ded-4e35-e913-ea1e27dbc8cf"
      },
      "outputs": [
        {
          "output_type": "execute_result",
          "data": {
            "text/plain": [
              "225.40240679300456"
            ]
          },
          "metadata": {},
          "execution_count": 19
        }
      ],
      "source": [
        "np.average(doc_lengths)"
      ]
    },
    {
      "cell_type": "markdown",
      "metadata": {
        "id": "Tuq5bqdr4_a6"
      },
      "source": [
        "Even though these token counts won't match up to the BPE tokenizer's, I'm confident that most bios will be fit under the 768 embedding size limit for the small GPT2 model."
      ]
    },
    {
      "cell_type": "markdown",
      "metadata": {
        "id": "cMml12FJGjPW"
      },
      "source": [
        "# GPT2 Tokenizer"
      ]
    },
    {
      "cell_type": "markdown",
      "metadata": {
        "id": "ANJhbBwdxN-b"
      },
      "source": [
        "Specify some of the special tokens."
      ]
    },
    {
      "cell_type": "code",
      "execution_count": null,
      "metadata": {
        "colab": {
          "base_uri": "https://localhost:8080/",
          "height": 369,
          "referenced_widgets": [
            "9aa3f2a824284847b4f39c80adaf970c",
            "2ee71b6724b14547912b70a16e6aeb16",
            "46cd8b308c5148c8b8f75c88bb342bed",
            "bdbe8d2add7c4cf585730a2d357bffdc",
            "9274faba8b5643878f69252439e7abfd",
            "7d9fa68ffcd84d81aeb889a5ad7d3b25",
            "e431d19e6b5a4ad8bdba8166810a0863",
            "d2d45cf88b2740a4b73f70ed11f3e163",
            "0debb84ed248474d8cb5b14afb629c0c",
            "9e156f7bda014c168366104fa3cc6d0a",
            "7633297a9e8447f1bec7aa7dbb7711a8",
            "4fe50e4d6a914a28a8d18e0b39ce0b8a",
            "d850a7ac3d4147379f9a0446e419544e",
            "aea7e89bbcb841a087af5501d0db8214",
            "d1ce54275a8b4939a40e275af5f8af19",
            "b51ad1d98d58458eb9abfaf35e17422e",
            "09aea5f4a8454c66859af6eaf0d4b5c9",
            "2a1e58c145114181bbb88d9dc6df58fd",
            "bd2931d87ab14144a0636add05cc6f08",
            "bcd03dd04e164095bae34fb3ca7018e2",
            "54cb7f850c3a41b495b3aa1fa79fb27f",
            "fd45a6a75344483091b9fa84736cd932",
            "e5a01db975114df18d2da1c1253b99b0",
            "757a5ad129bc47ce92158ae950bde362",
            "0940b781ddd44b6ea7e31b3db90f3a20",
            "3078fa9e63d5408fb2ee52cf7879898b",
            "4281e2f1893b4d63a11b841b9453d602",
            "5fbe6554f7454da9bdaadd70129920ef",
            "b4eef5083a61495d973b429aca932ce6",
            "59d838de5b6b4115b85e7c56eff13343",
            "b51b568f6cff497da62624532a040dab",
            "b85481fd505946b4abf2cef0b6c237de",
            "d118b01843aa4f87a5b5d49607e2c5bc",
            "465422fca6114385b7682d5cc3517b3d",
            "0cb28bb42e9543a2be9a9bbc5c8a0fa2",
            "5560b6c1efac42639786feee02758051",
            "b3f64f064bb749978337466fdc6fbe0b",
            "2be458c0dc2d417e98f6d6ca001b3751",
            "eef6bafd854545d9865c200bc3a33e69",
            "1609190430f04fcb93ad7c01159f8606",
            "2c3a9fde875045409fe3966862d3dbe2",
            "92fd07e7c8134619bfcd2d141645f867",
            "b826fca545a4438eb90ad452b3a008f4",
            "f89cc927f68f4325a6f05a46e591ce28"
          ]
        },
        "id": "Z474sSC6oe7A",
        "outputId": "bfea1669-4e84-427e-fe70-65899807a985"
      },
      "outputs": [
        {
          "output_type": "display_data",
          "data": {
            "text/plain": [
              "vocab.json:   0%|          | 0.00/1.04M [00:00<?, ?B/s]"
            ],
            "application/vnd.jupyter.widget-view+json": {
              "version_major": 2,
              "version_minor": 0,
              "model_id": "9aa3f2a824284847b4f39c80adaf970c"
            }
          },
          "metadata": {}
        },
        {
          "output_type": "display_data",
          "data": {
            "text/plain": [
              "merges.txt:   0%|          | 0.00/456k [00:00<?, ?B/s]"
            ],
            "application/vnd.jupyter.widget-view+json": {
              "version_major": 2,
              "version_minor": 0,
              "model_id": "4fe50e4d6a914a28a8d18e0b39ce0b8a"
            }
          },
          "metadata": {}
        },
        {
          "output_type": "display_data",
          "data": {
            "text/plain": [
              "tokenizer.json:   0%|          | 0.00/1.36M [00:00<?, ?B/s]"
            ],
            "application/vnd.jupyter.widget-view+json": {
              "version_major": 2,
              "version_minor": 0,
              "model_id": "e5a01db975114df18d2da1c1253b99b0"
            }
          },
          "metadata": {}
        },
        {
          "output_type": "display_data",
          "data": {
            "text/plain": [
              "config.json:   0%|          | 0.00/665 [00:00<?, ?B/s]"
            ],
            "application/vnd.jupyter.widget-view+json": {
              "version_major": 2,
              "version_minor": 0,
              "model_id": "465422fca6114385b7682d5cc3517b3d"
            }
          },
          "metadata": {}
        }
      ],
      "source": [
        "# Load the GPT tokenizer.\n",
        "tokenizer = GPT2Tokenizer.from_pretrained('gpt2', bos_token='<|startoftext|>', eos_token='<|endoftext|>', pad_token='<|pad|>') #gpt2-medium"
      ]
    },
    {
      "cell_type": "code",
      "execution_count": null,
      "metadata": {
        "colab": {
          "base_uri": "https://localhost:8080/"
        },
        "id": "sh0XKuDvnryn",
        "outputId": "9f8e79df-2092-429b-c8de-bc27596b0a75"
      },
      "outputs": [
        {
          "output_type": "stream",
          "name": "stdout",
          "text": [
            "The max model length is 1024 for this model, although the actual embedding size for GPT small is 768\n",
            "The beginning of sequence token <|startoftext|> token has the id 50257\n",
            "The end of sequence token <|endoftext|> has the id 50256\n",
            "The padding token <|pad|> has the id 50258\n"
          ]
        }
      ],
      "source": [
        "print(\"The max model length is {} for this model, although the actual embedding size for GPT small is 768\".format(tokenizer.model_max_length))\n",
        "print(\"The beginning of sequence token {} token has the id {}\".format(tokenizer.convert_ids_to_tokens(tokenizer.bos_token_id), tokenizer.bos_token_id))\n",
        "print(\"The end of sequence token {} has the id {}\".format(tokenizer.convert_ids_to_tokens(tokenizer.eos_token_id), tokenizer.eos_token_id))\n",
        "print(\"The padding token {} has the id {}\".format(tokenizer.convert_ids_to_tokens(tokenizer.pad_token_id), tokenizer.pad_token_id))"
      ]
    },
    {
      "cell_type": "markdown",
      "metadata": {
        "id": "ex5O1eV-Pfct"
      },
      "source": [
        "# PyTorch Datasets & Dataloaders\n"
      ]
    },
    {
      "cell_type": "markdown",
      "metadata": {
        "id": "3lgZoOYkxZfx"
      },
      "source": [
        "GPT2 is a large model. We learnt that increasing the batch size above 2 has lead to out of memory problems."
      ]
    },
    {
      "cell_type": "code",
      "execution_count": null,
      "metadata": {
        "id": "scqrzmqhV__z"
      },
      "outputs": [],
      "source": [
        "batch_size = 2"
      ]
    },
    {
      "cell_type": "markdown",
      "metadata": {
        "id": "lqGMee7Isfpx"
      },
      "source": [
        "We are using the standard PyTorch approach of loading data in using a [dataset class](https://pytorch.org/tutorials/beginner/data_loading_tutorial.html).\n",
        "\n",
        "We are passing in the tokenizer as an argument."
      ]
    },
    {
      "cell_type": "code",
      "execution_count": null,
      "metadata": {
        "id": "U_XJVIetKN-h"
      },
      "outputs": [],
      "source": [
        "class GPT2Dataset(Dataset):\n",
        "\n",
        "  def __init__(self, txt_list, tokenizer, gpt2_type=\"gpt2\", max_length=1371):\n",
        "\n",
        "    self.tokenizer = tokenizer\n",
        "    self.input_ids = []\n",
        "    self.attn_masks = []\n",
        "\n",
        "    for txt in txt_list:\n",
        "\n",
        "      encodings_dict = tokenizer('<|startoftext|>'+ txt + '<|endoftext|>', truncation=True, max_length=max_length, padding=\"max_length\")\n",
        "\n",
        "      self.input_ids.append(torch.tensor(encodings_dict['input_ids']))\n",
        "      self.attn_masks.append(torch.tensor(encodings_dict['attention_mask']))\n",
        "\n",
        "  def __len__(self):\n",
        "    return len(self.input_ids)\n",
        "\n",
        "  def __getitem__(self, idx):\n",
        "    return self.input_ids[idx], self.attn_masks[idx]"
      ]
    },
    {
      "cell_type": "markdown",
      "metadata": {
        "id": "89Z7aYUgpWrd"
      },
      "source": [
        "We wrapped each Ans_Que in the bos and eos tokens.\n",
        "\n",
        "Every tensor passed to the model should be the same length.\n",
        "\n",
        "If the Ans_Que is shorter than 768 tokens, it will be padded to a length of 768 using the padding token. In addition, an attention mask will be returned that needs to be passed to the model to tell it to ignore the padding tokens.\n",
        "\n",
        "If the bio is longer than 768 tokens, it will be truncated without the eos_token. This isn't a problem."
      ]
    },
    {
      "cell_type": "code",
      "execution_count": null,
      "metadata": {
        "colab": {
          "base_uri": "https://localhost:8080/"
        },
        "id": "Xza_O1_rD7yh",
        "outputId": "5b40dd0e-ee54-4407-c7fe-243bd22a2721"
      },
      "outputs": [
        {
          "output_type": "stream",
          "name": "stdout",
          "text": [
            "16,004 training samples\n",
            "1,779 validation samples\n"
          ]
        }
      ],
      "source": [
        "dataset = GPT2Dataset(Ans_Que, tokenizer, max_length=768)\n",
        "\n",
        "# Split into training and validation sets\n",
        "train_size = int(0.9 * len(dataset))\n",
        "val_size = len(dataset) - train_size\n",
        "\n",
        "train_dataset, val_dataset = random_split(dataset, [train_size, val_size])\n",
        "\n",
        "print('{:>5,} training samples'.format(train_size))\n",
        "print('{:>5,} validation samples'.format(val_size))"
      ]
    },
    {
      "cell_type": "code",
      "execution_count": null,
      "metadata": {
        "id": "x0WeP5PREUuy"
      },
      "outputs": [],
      "source": [
        "# Create the DataLoaders for our training and validation datasets.\n",
        "# We'll take training samples in random order.\n",
        "train_dataloader = DataLoader(\n",
        "            train_dataset,  # The training samples.\n",
        "            sampler = RandomSampler(train_dataset), # Select batches randomly\n",
        "            batch_size = batch_size # Trains with this batch size.\n",
        "        )\n",
        "\n",
        "# For validation the order doesn't matter, so we'll just read them sequentially.\n",
        "validation_dataloader = DataLoader(\n",
        "            val_dataset, # The validation samples.\n",
        "            sampler = SequentialSampler(val_dataset), # Pull out batches sequentially.\n",
        "            batch_size = batch_size # Evaluate with this batch size.\n",
        "        )"
      ]
    },
    {
      "cell_type": "markdown",
      "metadata": {
        "id": "D6TKgyUzPIQc"
      },
      "source": [
        "# Finetune GPT2 Language Model"
      ]
    },
    {
      "cell_type": "code",
      "execution_count": null,
      "metadata": {
        "colab": {
          "base_uri": "https://localhost:8080/",
          "height": 193,
          "referenced_widgets": [
            "8d886181579d4c6aac8310aa921f7196",
            "4a0049064d61487bb9f7b5e4078b2ac5",
            "4b5551e0e40d41e59c71d239ca11ba07",
            "217f4494a14b4497bf783779acf71f62",
            "544020ee66094647b2e4a26717aa5e86",
            "32540e9a5445413aae36c4503b09004a",
            "9100531f377845df929323e3c02f7208",
            "b01164f8df7547aa92bdc185c6c5fbe9",
            "b878b8bbdc464160b66a36964b77fdb3",
            "6a49e9a3349c452295983c399388b56e",
            "937a8e3802d6474582cc97e68be8043e",
            "c81e0747c2f5416c8246df6a18d4d248",
            "3fb47e24848741d2b1b7ae20d3850d9f",
            "3dd4bbcfb60b40e8ade8d66276856a7c",
            "0687000af34140aa956a39026ea9e5c8",
            "92c6caf8ad5d4ba295ea3f9e7e4fc585",
            "c5fe09cbc7ad4aadbc7f1e957f8c233a",
            "068c2775810943759ba5e581ae32813c",
            "bc6074f0c2784470adb5486883653451",
            "7de6230c5e414eb8bc812eea795a94e2",
            "356a292fd0204bda936d619e1f931958",
            "8f68deec76d14df2b49bc09aeb1a920b"
          ]
        },
        "id": "gFsCTp_mporB",
        "outputId": "97809db2-6284-46bb-f445-7f7c6d11cc0a"
      },
      "outputs": [
        {
          "output_type": "display_data",
          "data": {
            "text/plain": [
              "model.safetensors:   0%|          | 0.00/548M [00:00<?, ?B/s]"
            ],
            "application/vnd.jupyter.widget-view+json": {
              "version_major": 2,
              "version_minor": 0,
              "model_id": "8d886181579d4c6aac8310aa921f7196"
            }
          },
          "metadata": {}
        },
        {
          "output_type": "display_data",
          "data": {
            "text/plain": [
              "generation_config.json:   0%|          | 0.00/124 [00:00<?, ?B/s]"
            ],
            "application/vnd.jupyter.widget-view+json": {
              "version_major": 2,
              "version_minor": 0,
              "model_id": "c81e0747c2f5416c8246df6a18d4d248"
            }
          },
          "metadata": {}
        }
      ],
      "source": [
        "# We are not really doing anything with the config buheret\n",
        "configuration = GPT2Config.from_pretrained('gpt2', output_hidden_states=False)\n",
        "\n",
        "# instantiate the model\n",
        "model = GPT2LMHeadModel.from_pretrained(\"gpt2\", config=configuration)\n",
        "\n",
        "# this step is necessary because we've added some tokens (bos_token, etc) to the embeddings\n",
        "# otherwise the tokenizer and model tensors won't match up\n",
        "model.resize_token_embeddings(len(tokenizer))\n",
        "\n",
        "# Tell pytorch to run this model on the GPU.\n",
        "device = torch.device(\"cuda\")\n",
        "model.cuda()\n",
        "\n",
        "# Set the seed value all over the place to make this reproducible.\n",
        "seed_val = 42\n",
        "\n",
        "random.seed(seed_val)\n",
        "np.random.seed(seed_val)\n",
        "torch.manual_seed(seed_val)\n",
        "torch.cuda.manual_seed_all(seed_val)"
      ]
    },
    {
      "cell_type": "code",
      "execution_count": null,
      "metadata": {
        "id": "pBEVY2PYSTXJ"
      },
      "outputs": [],
      "source": [
        "# These parameters  work reasonably well\n",
        "\n",
        "epochs = 5\n",
        "learning_rate = 5e-4\n",
        "warmup_steps = 1e2\n",
        "epsilon = 1e-8\n",
        "\n",
        "# this produces sample output every 100 steps\n",
        "sample_every = 100"
      ]
    },
    {
      "cell_type": "code",
      "execution_count": null,
      "metadata": {
        "colab": {
          "base_uri": "https://localhost:8080/"
        },
        "id": "GLs72DuMODJO",
        "outputId": "e17400ca-9f1f-42fc-ba82-7d79318dedfe"
      },
      "outputs": [
        {
          "output_type": "stream",
          "name": "stderr",
          "text": [
            "/usr/local/lib/python3.10/dist-packages/transformers/optimization.py:411: FutureWarning: This implementation of AdamW is deprecated and will be removed in a future version. Use the PyTorch implementation torch.optim.AdamW instead, or set `no_deprecation_warning=True` to disable this warning\n",
            "  warnings.warn(\n"
          ]
        }
      ],
      "source": [
        "# Note: AdamW is a class from the huggingface library (as opposed to pytorch)\n",
        "optimizer = AdamW(model.parameters(),\n",
        "                  lr = learning_rate,\n",
        "                  eps = epsilon\n",
        "                )"
      ]
    },
    {
      "cell_type": "code",
      "execution_count": null,
      "metadata": {
        "id": "-p0upAhhRiIx"
      },
      "outputs": [],
      "source": [
        "# Total number of training steps is [number of batches] x [number of epochs].\n",
        "# (Note that this is not the same as the number of training samples).\n",
        "total_steps = len(train_dataloader) * epochs\n",
        "\n",
        "# Create the learning rate scheduler.\n",
        "# This changes the learning rate as the training loop progresses\n",
        "scheduler = get_linear_schedule_with_warmup(optimizer,\n",
        "                                            num_warmup_steps = warmup_steps,\n",
        "                                            num_training_steps = total_steps)"
      ]
    },
    {
      "cell_type": "code",
      "execution_count": null,
      "metadata": {
        "id": "gpt6tR83keZD"
      },
      "outputs": [],
      "source": [
        "def format_time(elapsed):\n",
        "    return str(datetime.timedelta(seconds=int(round((elapsed)))))"
      ]
    },
    {
      "cell_type": "code",
      "execution_count": null,
      "metadata": {
        "id": "vCPohrZ-CTWu"
      },
      "outputs": [],
      "source": [
        "total_t0 = time.time()\n",
        "\n",
        "training_stats = []\n",
        "\n",
        "model = model.to(device)\n",
        "\n",
        "for epoch_i in range(0, epochs):\n",
        "\n",
        "    # ========================================\n",
        "    #               Training\n",
        "    # ========================================\n",
        "\n",
        "    print(\"\")\n",
        "    print('======== Epoch {:} / {:} ========'.format(epoch_i + 1, epochs))\n",
        "    print('Training...')\n",
        "\n",
        "    t0 = time.time()\n",
        "\n",
        "    total_train_loss = 0\n",
        "\n",
        "    model.train()\n",
        "\n",
        "    for step, batch in enumerate(train_dataloader):\n",
        "\n",
        "        b_input_ids = batch[0].to(device)\n",
        "        b_labels = batch[0].to(device)\n",
        "        b_masks = batch[1].to(device)\n",
        "\n",
        "        model.zero_grad()\n",
        "\n",
        "        outputs = model(  b_input_ids,\n",
        "                          labels=b_labels,\n",
        "                          attention_mask = b_masks,\n",
        "                          token_type_ids=None\n",
        "                        )\n",
        "\n",
        "        loss = outputs[0]\n",
        "\n",
        "        batch_loss = loss.item()\n",
        "        total_train_loss += batch_loss\n",
        "\n",
        "        # Get sample every x batches.\n",
        "        if step % sample_every == 0 and not step == 0:\n",
        "\n",
        "            elapsed = format_time(time.time() - t0)\n",
        "            print('  Batch {:>5,}  of  {:>5,}. Loss: {:>5,}.   Elapsed: {:}.'.format(step, len(train_dataloader), batch_loss, elapsed))\n",
        "\n",
        "            model.eval()\n",
        "\n",
        "            sample_outputs = model.generate(\n",
        "                                    bos_token_id=random.randint(1,30000),\n",
        "                                    do_sample=True,\n",
        "                                    top_k=50,\n",
        "                                    max_length = 200,\n",
        "                                    top_p=0.95,\n",
        "                                    num_return_sequences=1\n",
        "                                )\n",
        "            for i, sample_output in enumerate(sample_outputs):\n",
        "                  print(\"{}: {}\".format(i, tokenizer.decode(sample_output, skip_special_tokens=True)))\n",
        "\n",
        "            model.train()\n",
        "\n",
        "        loss.backward()\n",
        "\n",
        "        optimizer.step()\n",
        "\n",
        "        scheduler.step()\n",
        "\n",
        "    # Calculate the average loss over all of the batches.\n",
        "    avg_train_loss = total_train_loss / len(train_dataloader)\n",
        "\n",
        "    # Measure how long this epoch took.\n",
        "    training_time = format_time(time.time() - t0)\n",
        "\n",
        "    print(\"\")\n",
        "    print(\"  Average training loss: {0:.2f}\".format(avg_train_loss))\n",
        "    print(\"  Training epoch took: {:}\".format(training_time))\n",
        "\n",
        "    # ========================================\n",
        "    #               Validation\n",
        "    # ========================================\n",
        "\n",
        "    print(\"\")\n",
        "    print(\"Running Validation...\")\n",
        "\n",
        "    t0 = time.time()\n",
        "\n",
        "    model.eval()\n",
        "\n",
        "    total_eval_loss = 0\n",
        "    nb_eval_steps = 0\n",
        "\n",
        "    # Evaluate data for one epoch\n",
        "    for batch in validation_dataloader:\n",
        "\n",
        "        b_input_ids = batch[0].to(device)\n",
        "        b_labels = batch[0].to(device)\n",
        "        b_masks = batch[1].to(device)\n",
        "\n",
        "        with torch.no_grad():\n",
        "\n",
        "            outputs  = model(b_input_ids,\n",
        "#                            token_type_ids=None,\n",
        "                             attention_mask = b_masks,\n",
        "                            labels=b_labels)\n",
        "\n",
        "            loss = outputs[0]\n",
        "\n",
        "        batch_loss = loss.item()\n",
        "        total_eval_loss += batch_loss\n",
        "\n",
        "    avg_val_loss = total_eval_loss / len(validation_dataloader)\n",
        "\n",
        "    validation_time = format_time(time.time() - t0)\n",
        "\n",
        "    print(\"  Validation Loss: {0:.2f}\".format(avg_val_loss))\n",
        "    print(\"  Validation took: {:}\".format(validation_time))\n",
        "\n",
        "    # Record all statistics from this epoch.\n",
        "    training_stats.append(\n",
        "        {\n",
        "            'epoch': epoch_i + 1,\n",
        "            'Training Loss': avg_train_loss,\n",
        "            'Valid. Loss': avg_val_loss,\n",
        "            'Training Time': training_time,\n",
        "            'Validation Time': validation_time\n",
        "        }\n",
        "    )\n",
        "\n",
        "print(\"\")\n",
        "print(\"Training complete!\")\n",
        "print(\"Total training took {:} (h:mm:ss)\".format(format_time(time.time()-total_t0)))"
      ]
    },
    {
      "cell_type": "markdown",
      "metadata": {
        "id": "VQTvJ1vRP7u4"
      },
      "source": [
        "Let's view the summary of the training process."
      ]
    },
    {
      "cell_type": "code",
      "execution_count": null,
      "metadata": {
        "id": "6O_NbXFGMukX"
      },
      "outputs": [],
      "source": [
        "# Display floats with two decimal places.\n",
        "#pd.set_option('precision', 2)\n",
        "pd.options.display.precision = 2\n",
        "\n",
        "# Create a DataFrame from our training statistics.\n",
        "df_stats = pd.DataFrame(data=training_stats)\n",
        "\n",
        "# Use the 'epoch' as the row index.\n",
        "df_stats = df_stats.set_index('epoch')\n",
        "\n",
        "# A hack to force the column headers to wrap.\n",
        "#df = df.style.set_table_styles([dict(selector=\"th\",props=[('max-width', '70px')])])\n",
        "\n",
        "# Display the table.\n",
        "df_stats"
      ]
    },
    {
      "cell_type": "code",
      "execution_count": null,
      "metadata": {
        "colab": {
          "base_uri": "https://localhost:8080/",
          "height": 592
        },
        "id": "68xreA9JAmG5",
        "outputId": "5bd34c7c-5c29-4dde-8308-6e96dc875838"
      },
      "outputs": [
        {
          "output_type": "display_data",
          "data": {
            "text/plain": [
              "<Figure size 1200x600 with 1 Axes>"
            ],
            "image/png": "[encoded data removed]"
          },
          "metadata": {}
        }
      ],
      "source": [
        "# Use plot styling from seaborn.\n",
        "sns.set(style='darkgrid')\n",
        "\n",
        "# Increase the plot size and font size.\n",
        "sns.set(font_scale=1.5)\n",
        "plt.rcParams[\"figure.figsize\"] = (12,6)\n",
        "\n",
        "# Plot the learning curve.\n",
        "plt.plot(df_stats['Training Loss'], 'b-o', label=\"Training\")\n",
        "plt.plot(df_stats['Valid. Loss'], 'g-o', label=\"Validation\")\n",
        "\n",
        "# Label the plot.\n",
        "plt.title(\"Training & Validation Loss\")\n",
        "plt.xlabel(\"Epoch\")\n",
        "plt.ylabel(\"Loss\")\n",
        "plt.legend()\n",
        "plt.xticks([1, 2, 3, 4])\n",
        "\n",
        "plt.show()"
      ]
    },
    {
      "cell_type": "markdown",
      "metadata": {
        "id": "GfjYoa6WmkN6"
      },
      "source": [
        "# Display Model Info"
      ]
    },
    {
      "cell_type": "code",
      "execution_count": null,
      "metadata": {
        "colab": {
          "base_uri": "https://localhost:8080/"
        },
        "id": "8PIiVlDYCtSq",
        "outputId": "4514aed3-5038-4c28-f1b2-8e660297104a"
      },
      "outputs": [
        {
          "output_type": "stream",
          "name": "stdout",
          "text": [
            "The GPT-2 model has 148 different named parameters.\n",
            "\n",
            "==== Embedding Layer ====\n",
            "\n",
            "transformer.wte.weight                                  (50259, 768)\n",
            "transformer.wpe.weight                                   (1024, 768)\n",
            "\n",
            "==== First Transformer ====\n",
            "\n",
            "transformer.h.0.ln_1.weight                                   (768,)\n",
            "transformer.h.0.ln_1.bias                                     (768,)\n",
            "transformer.h.0.attn.c_attn.weight                       (768, 2304)\n",
            "transformer.h.0.attn.c_attn.bias                             (2304,)\n",
            "transformer.h.0.attn.c_proj.weight                        (768, 768)\n",
            "transformer.h.0.attn.c_proj.bias                              (768,)\n",
            "transformer.h.0.ln_2.weight                                   (768,)\n",
            "transformer.h.0.ln_2.bias                                     (768,)\n",
            "transformer.h.0.mlp.c_fc.weight                          (768, 3072)\n",
            "transformer.h.0.mlp.c_fc.bias                                (3072,)\n",
            "transformer.h.0.mlp.c_proj.weight                        (3072, 768)\n",
            "transformer.h.0.mlp.c_proj.bias                               (768,)\n",
            "\n",
            "==== Output Layer ====\n",
            "\n",
            "transformer.ln_f.weight                                       (768,)\n",
            "transformer.ln_f.bias                                         (768,)\n"
          ]
        }
      ],
      "source": [
        "# Get all of the model's parameters as a list of tuples.\n",
        "params = list(model.named_parameters())\n",
        "\n",
        "print('The GPT-2 model has {:} different named parameters.\\n'.format(len(params)))\n",
        "\n",
        "print('==== Embedding Layer ====\\n')\n",
        "\n",
        "for p in params[0:2]:\n",
        "    print(\"{:<55} {:>12}\".format(p[0], str(tuple(p[1].size()))))\n",
        "\n",
        "print('\\n==== First Transformer ====\\n')\n",
        "\n",
        "for p in params[2:14]:\n",
        "    print(\"{:<55} {:>12}\".format(p[0], str(tuple(p[1].size()))))\n",
        "\n",
        "print('\\n==== Output Layer ====\\n')\n",
        "\n",
        "for p in params[-2:]:\n",
        "    print(\"{:<55} {:>12}\".format(p[0], str(tuple(p[1].size()))))"
      ]
    },
    {
      "cell_type": "markdown",
      "metadata": {
        "id": "q2079Qyn8Mt8"
      },
      "source": [
        "# Saving & Loading Fine-Tuned Model\n"
      ]
    },
    {
      "cell_type": "code",
      "execution_count": null,
      "metadata": {
        "colab": {
          "base_uri": "https://localhost:8080/"
        },
        "id": "6ulTWaOr8QNY",
        "outputId": "8f0f9349-225c-4b43-8c4f-bee9c61ebb60"
      },
      "outputs": [
        {
          "output_type": "stream",
          "name": "stdout",
          "text": [
            "Saving model to /content/drive/MyDrive/Team Bourguiba Dataset/model_save/\n"
          ]
        }
      ],
      "source": [
        "# Saving model with defaults name, so that it can be reloaded from_pretrained()\n",
        "\n",
        "output_dir = '/content/drive/MyDrive/Team Bourguiba Dataset/model_save/'\n",
        "\n",
        "# Create output directory\n",
        "if not os.path.exists(output_dir):\n",
        "    os.makedirs(output_dir)\n",
        "\n",
        "print(\"Saving model to %s\" % output_dir)\n",
        "\n",
        "# Save a trained model, configuration and tokenizer using `save_pretrained()`.\n",
        "# They can then be reloaded using `from_pretrained()`\n",
        "model_to_save = model.module if hasattr(model, 'module') else model  # Take care of distributed/parallel training\n",
        "model_to_save.save_pretrained(output_dir)\n",
        "tokenizer.save_pretrained(output_dir)\n",
        "\n",
        "args = {\n",
        "    epochs: epochs,\n",
        "    learning_rate: learning_rate,\n",
        "    warmup_steps: warmup_steps,\n",
        "    epsilon: epsilon,\n",
        "    sample_every: sample_every\n",
        "}\n",
        "# save training arguments together with the trained model\n",
        "torch.save(args, os.path.join(output_dir, 'training_args.bin'))"
      ]
    },
    {
      "cell_type": "code",
      "source": [
        "# Need to be in this locale to save model\n",
        "import locale\n",
        "locale.getpreferredencoding = lambda: \"UTF-8\""
      ],
      "metadata": {
        "id": "-lX3Fq6QxY33"
      },
      "execution_count": null,
      "outputs": []
    },
    {
      "cell_type": "code",
      "execution_count": null,
      "metadata": {
        "colab": {
          "base_uri": "https://localhost:8080/"
        },
        "id": "mqMzI3VTCZo5",
        "outputId": "973b1032-29d4-40e4-f9b3-3d5cb7740c19"
      },
      "outputs": [
        {
          "output_type": "stream",
          "name": "stdout",
          "text": [
            "total 487568K\n",
            "-rw-r--r-- 1 root root      1K Dec 15 16:10 added_tokens.json\n",
            "-rw-r--r-- 1 root root      1K Dec 15 16:10 config.json\n",
            "-rw-r--r-- 1 root root      1K Dec 15 16:10 generation_config.json\n",
            "-rw-r--r-- 1 root root    446K Dec 15 16:10 merges.txt\n",
            "-rw-r--r-- 1 root root 486114K Dec 15 16:10 model.safetensors\n",
            "-rw-r--r-- 1 root root      1K Dec 15 16:10 special_tokens_map.json\n",
            "-rw-r--r-- 1 root root      1K Dec 15 16:10 tokenizer_config.json\n",
            "-rw-r--r-- 1 root root      1K Dec 15 16:10 training_args.bin\n",
            "-rw-r--r-- 1 root root    976K Dec 15 16:10 vocab.json\n"
          ]
        }
      ],
      "source": [
        "#List all that is saved in the model\n",
        "!ls -l --block-size=K ./model_save/"
      ]
    },
    {
      "cell_type": "code",
      "execution_count": null,
      "metadata": {
        "colab": {
          "base_uri": "https://localhost:8080/"
        },
        "id": "-WUFUIQ8Cu8D",
        "outputId": "bac8c0d3-25fd-4e41-bd34-285ad0b370c4"
      },
      "outputs": [
        {
          "output_type": "stream",
          "name": "stdout",
          "text": [
            "-rw-r--r-- 1 root root 475M Dec 15 16:10 ./model_save/model.safetensors\n"
          ]
        }
      ],
      "source": [
        "#Get details about the model weight\n",
        "!ls -l --block-size=M ./model_save/model.safetensors"
      ]
    },
    {
      "cell_type": "code",
      "execution_count": null,
      "metadata": {
        "colab": {
          "base_uri": "https://localhost:8080/"
        },
        "id": "NxlZsafTC-V5",
        "outputId": "8c69b09d-9372-42a3-e65f-0f7e60573c83"
      },
      "outputs": [
        {
          "output_type": "stream",
          "name": "stderr",
          "text": [
            "Special tokens have been added in the vocabulary, make sure the associated word embeddings are fine-tuned or trained.\n"
          ]
        },
        {
          "output_type": "execute_result",
          "data": {
            "text/plain": [
              "GPT2LMHeadModel(\n",
              "  (transformer): GPT2Model(\n",
              "    (wte): Embedding(50259, 768)\n",
              "    (wpe): Embedding(1024, 768)\n",
              "    (drop): Dropout(p=0.1, inplace=False)\n",
              "    (h): ModuleList(\n",
              "      (0-11): 12 x GPT2Block(\n",
              "        (ln_1): LayerNorm((768,), eps=1e-05, elementwise_affine=True)\n",
              "        (attn): GPT2Attention(\n",
              "          (c_attn): Conv1D()\n",
              "          (c_proj): Conv1D()\n",
              "          (attn_dropout): Dropout(p=0.1, inplace=False)\n",
              "          (resid_dropout): Dropout(p=0.1, inplace=False)\n",
              "        )\n",
              "        (ln_2): LayerNorm((768,), eps=1e-05, elementwise_affine=True)\n",
              "        (mlp): GPT2MLP(\n",
              "          (c_fc): Conv1D()\n",
              "          (c_proj): Conv1D()\n",
              "          (act): NewGELUActivation()\n",
              "          (dropout): Dropout(p=0.1, inplace=False)\n",
              "        )\n",
              "      )\n",
              "    )\n",
              "    (ln_f): LayerNorm((768,), eps=1e-05, elementwise_affine=True)\n",
              "  )\n",
              "  (lm_head): Linear(in_features=768, out_features=50259, bias=False)\n",
              ")"
            ]
          },
          "metadata": {},
          "execution_count": 53
        }
      ],
      "source": [
        "#  Load a trained model and vocabulary that you have fine-tuned\n",
        "model = GPT2LMHeadModel.from_pretrained(output_dir)\n",
        "tokenizer = GPT2Tokenizer.from_pretrained(output_dir)\n",
        "model.to(device)"
      ]
    },
    {
      "cell_type": "markdown",
      "metadata": {
        "id": "ZLf6rbRglYhQ"
      },
      "source": [
        "# Generate Text"
      ]
    },
    {
      "cell_type": "code",
      "execution_count": null,
      "metadata": {
        "id": "v4XhewaV93-_"
      },
      "outputs": [],
      "source": [
        "model.eval()\n",
        "\n",
        "#prompt = \"<|startoftext|>\"\n",
        "Questions = \"What is a panic attack?\"\n",
        "prompt = f\"<|startoftext|>Question:{Questions}\\nAnswer: \"\n",
        "\n",
        "generated = torch.tensor(tokenizer.encode(prompt)).unsqueeze(0)\n",
        "generated = generated.to(device)\n",
        "\n",
        "print(generated)\n",
        "\n",
        "sample_outputs = model.generate(\n",
        "                                generated,\n",
        "                                #bos_token_id=random.randint(1,30000),\n",
        "                                do_sample=True,\n",
        "                                top_k=50,\n",
        "                                max_length = 300,\n",
        "                                top_p=0.95,\n",
        "                                num_return_sequences=3\n",
        "                                )\n",
        "\n",
        "for i, sample_output in enumerate(sample_outputs):\n",
        "  print(\"{}: {}\\n\\n\".format(i, tokenizer.decode(sample_output, skip_special_tokens=True)))"
      ]
    },
    {
      "cell_type": "markdown",
      "metadata": {
        "id": "t4LrX5H-0nAU"
      },
      "source": [
        "##Credit\n",
        "\n",
        " We've liberally taken bits from [Chris McCormick's BERT fine-tuning tutorial](https://mccormickml.com/2019/07/22/BERT-fine-tuning/), [Ian Porter's GPT2 tutorial](https://snappishproductions.com/blog/2020/03/01/chapter-9.5-text-generation-with-gpt-2-and-only-pytorch.html.html) and the [Hugging Face Language model fine-tuning script](https://huggingface.co/transformers/v2.0.0/examples.html#language-model-fine-tuning) so full credit to them. Chris' code has pretty much provided the basis for this script - you should definitely check out his [blog](https://mccormickml.com/tutorials/).\n",
        "\n",
        "\n",
        "\n",
        "This [discussion by harryenigma](https://discuss.huggingface.co/t/fine-tuning-gpt2-for-movie-script-generation-in-pytorch/23906/3) on Hugging Face was fundamental to the success of this project.\n",
        "\n",
        "\n"
      ]
    }
  ],
  "metadata": {
    "accelerator": "GPU",
    "colab": {
      "provenance": [],
      "gpuType": "T4",
      "collapsed_sections": [
        "EKOTlwcmxmej",
        "Xf3Qw77SZGbS",
        "ZfdCML6Parvv",
        "cMml12FJGjPW",
        "ex5O1eV-Pfct",
        "D6TKgyUzPIQc",
        "GfjYoa6WmkN6",
        "t4LrX5H-0nAU"
      ],
      "include_colab_link": true
    },
    "kernelspec": {
      "display_name": "Python 3",
      "name": "python3"
    }
  },
  "nbformat": 4,
  "nbformat_minor": 0
}